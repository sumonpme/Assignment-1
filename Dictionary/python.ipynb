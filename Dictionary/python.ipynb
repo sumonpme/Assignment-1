{
 "cells": [
  {
   "cell_type": "code",
   "execution_count": 1,
   "metadata": {},
   "outputs": [
    {
     "ename": "SyntaxError",
     "evalue": "expected ':' (933696700.py, line 2)",
     "output_type": "error",
     "traceback": [
      "\u001b[0;36m  Cell \u001b[0;32mIn[1], line 2\u001b[0;36m\u001b[0m\n\u001b[0;31m    if \"course\" in Task_1\u001b[0m\n\u001b[0m                         ^\u001b[0m\n\u001b[0;31mSyntaxError\u001b[0m\u001b[0;31m:\u001b[0m expected ':'\n"
     ]
    }
   ],
   "source": [
    "Task_1 = {\"name\": \"Ahmed\",\"age\": 30,\"course\": \"mining engineering\"}\n",
    "if \"course\" in Task_1\n",
    "    print(\"key,\"course\" exists in the dictionary\")\n",
    "else:\n",
    "    print(\"key,\"course\" does not exist in the dictionary\")"
   ]
  },
  {
   "cell_type": "code",
   "execution_count": 1,
   "metadata": {},
   "outputs": [
    {
     "name": "stdout",
     "output_type": "stream",
     "text": [
      "Created dictionary: {'name': 'Ahmed', 'age': 30, 'course': 'mining engineering'}\n"
     ]
    }
   ],
   "source": [
    "Task_1 = {\"name\": \"Ahmed\",\"age\": 30,\"course\": \"mining engineering\"}\n",
    "print(\"Created dictionary:\" , Task_1)"
   ]
  }
 ],
 "metadata": {
  "kernelspec": {
   "display_name": "Python 3",
   "language": "python",
   "name": "python3"
  },
  "language_info": {
   "codemirror_mode": {
    "name": "ipython",
    "version": 3
   },
   "file_extension": ".py",
   "mimetype": "text/x-python",
   "name": "python",
   "nbconvert_exporter": "python",
   "pygments_lexer": "ipython3",
   "version": "3.12.1"
  }
 },
 "nbformat": 4,
 "nbformat_minor": 2
}
